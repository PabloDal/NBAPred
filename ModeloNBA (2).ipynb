{
 "cells": [
  {
   "cell_type": "code",
   "execution_count": 1,
   "metadata": {},
   "outputs": [],
   "source": [
    "import pandas as pd"
   ]
  },
  {
   "cell_type": "code",
   "execution_count": 2,
   "metadata": {},
   "outputs": [],
   "source": [
    "#All datasets\n",
    "dfa = pd.read_csv('tabla_nba.csv')\n",
    "allstars = pd.read_csv('2017AllStarGame.csv',sep=';')\n",
    "test = pd.read_csv('tabla_nba2.csv')\n",
    "#2018\n",
    "allstars2 = pd.read_csv('2018AllStarGame.csv',sep=';')\n",
    "dfb = pd.read_csv('tabla_nba3.csv')\n",
    "#2016\n",
    "allstars3 = pd.read_csv('2016AllStarGame.csv',sep=';')"
   ]
  },
  {
   "cell_type": "code",
   "execution_count": 3,
   "metadata": {},
   "outputs": [],
   "source": [
    "# Adding year feature\n",
    "dfa['year']=2017\n",
    "dfb['year']=2016"
   ]
  },
  {
   "cell_type": "code",
   "execution_count": 48,
   "metadata": {},
   "outputs": [],
   "source": [
    "#Merge\n",
    "df = pd.concat([dfa,dfb])"
   ]
  },
  {
   "cell_type": "code",
   "execution_count": 64,
   "metadata": {},
   "outputs": [],
   "source": [
    "#Drop duplicated columns\n",
    "asd = df.T.drop_duplicates(keep='first').T"
   ]
  },
  {
   "cell_type": "code",
   "execution_count": 5,
   "metadata": {},
   "outputs": [],
   "source": [
    "#Drop duplicated columns (Manual)\n",
    "df.drop(columns=[\"Team_x.1\",\"Team_x.2\",'Team_y',\"Team_y.1\",\"Team_y.2\",'Games_x.1','Games_x.2','Games_y','Games_y.1','Games_y.2',\n",
    "                 'MinutesxGame_x.1','MinutesxGame_x.2','MinutesxGame_y','MinutesxGame_y.1','MinutesxGame_y.2','Turnovers_y',\n",
    "                'TurnoversxGame_y','PersonalFouls_y','Unnamed: 0','Ranking_x','Ranking_y','Ranking_y.1','Ranking_y.2',\n",
    "                'Ranking_x.1','Ranking_x.2'],inplace=True)\n",
    "test.drop(columns=[\"Team_x.1\",\"Team_x.2\",'Team_y',\"Team_y.1\",\"Team_y.2\",'Games_x.1','Games_x.2','Games_y','Games_y.1','Games_y.2',\n",
    "                 'MinutesxGame_x.1','MinutesxGame_x.2','MinutesxGame_y','MinutesxGame_y.1','MinutesxGame_y.2','Turnovers_y',\n",
    "                'TurnoversxGame_y','PersonalFouls_y','Unnamed: 0','Ranking_x','Ranking_y','Ranking_y.1','Ranking_y.2',\n",
    "                'Ranking_x.1','Ranking_x.2'],inplace=True)"
   ]
  },
  {
   "cell_type": "code",
   "execution_count": 7,
   "metadata": {},
   "outputs": [],
   "source": [
    "#Generating a copy and more drops\n",
    "df2 = df.copy()\n",
    "df2.drop(columns=[\"Player\",\"FieldGoalsxGame\",\"3Pointers\",\"FreeTrows\"],inplace=True)\n",
    "test2 = test.copy()\n",
    "test2.drop(columns=[\"Player\",\"FieldGoalsxGame\",\"3Pointers\",\"FreeTrows\"],inplace=True)"
   ]
  },
  {
   "cell_type": "code",
   "execution_count": 9,
   "metadata": {},
   "outputs": [],
   "source": [
    "#Split player name from player position.\n",
    "divide = pd.DataFrame(df[\"Player\"].str.split(',',expand=True))\n",
    "divide.columns=[\"Player\",\"Position\"]"
   ]
  },
  {
   "cell_type": "code",
   "execution_count": 10,
   "metadata": {},
   "outputs": [],
   "source": [
    "#Split fieldgoals in max and min. (previous format 'min-max')\n",
    "divide2 = pd.DataFrame(df[\"FieldGoalsxGame\"].str.split('-',expand=True))\n",
    "divide2.columns=[\"FieldGoalsxGamemin\",\"FieldGoalsxGamemax\"]"
   ]
  },
  {
   "cell_type": "code",
   "execution_count": 11,
   "metadata": {},
   "outputs": [],
   "source": [
    "#Same case as fieldgoals\n",
    "divide3 = pd.DataFrame(df[\"3Pointers\"].str.split('-',expand=True))\n",
    "divide3.columns=[\"3Pointersmin\",\"3Pointersmax\"]"
   ]
  },
  {
   "cell_type": "code",
   "execution_count": 12,
   "metadata": {},
   "outputs": [],
   "source": [
    "#Same case as fieldgoals\n",
    "divide4 = pd.DataFrame(df[\"FreeTrows\"].str.split('-',expand=True))\n",
    "divide4.columns=[\"FreeTrowsmin\",\"FreeTrowsmax\"]"
   ]
  },
  {
   "cell_type": "code",
   "execution_count": 13,
   "metadata": {},
   "outputs": [],
   "source": [
    "#Same process for the test data (could have merged and procecced them in one block)\n",
    "dividet = pd.DataFrame(test[\"Player\"].str.split(',',expand=True))\n",
    "dividet.columns=[\"Player\",\"Position\"]\n",
    "dividet2 = pd.DataFrame(test[\"FieldGoalsxGame\"].str.split('-',expand=True))\n",
    "dividet2.columns=[\"FieldGoalsxGamemin\",\"FieldGoalsxGamemax\"]\n",
    "dividet3 = pd.DataFrame(test[\"3Pointers\"].str.split('-',expand=True))\n",
    "dividet3.columns=[\"3Pointersmin\",\"3Pointersmax\"]\n",
    "dividet4 = pd.DataFrame(test[\"FreeTrows\"].str.split('-',expand=True))\n",
    "dividet4.columns=[\"FreeTrowsmin\",\"FreeTrowsmax\"]"
   ]
  },
  {
   "cell_type": "code",
   "execution_count": 14,
   "metadata": {},
   "outputs": [],
   "source": [
    "#replacing values in dataframes\n",
    "df2[\"Position\"] = divide[\"Position\"]\n",
    "df2[\"Player\"] = divide[\"Player\"]\n",
    "df2[\"FieldGoalsxGamemin\"] = divide2[\"FieldGoalsxGamemin\"].astype(float)\n",
    "df2[\"FieldGoalsxGamemax\"] = divide2[\"FieldGoalsxGamemax\"].astype(float)\n",
    "df2[\"3Pointersmin\"] = divide3[\"3Pointersmin\"].astype(float)\n",
    "df2[\"3Pointersmax\"] = divide3[\"3Pointersmax\"].astype(float)\n",
    "df2[\"FreeTrowsmin\"] = divide4[\"FreeTrowsmin\"].astype(float)\n",
    "df2[\"FreeTrowsmax\"] = divide4[\"FreeTrowsmax\"].astype(float)\n",
    "\n",
    "test2[\"Position\"] = dividet[\"Position\"]\n",
    "test2[\"Player\"] = dividet[\"Player\"]\n",
    "test2[\"FieldGoalsxGamemin\"] = dividet2[\"FieldGoalsxGamemin\"].astype(float)\n",
    "test2[\"FieldGoalsxGamemax\"] = dividet2[\"FieldGoalsxGamemax\"].astype(float)\n",
    "test2[\"3Pointersmin\"] = dividet3[\"3Pointersmin\"].astype(float)\n",
    "test2[\"3Pointersmax\"] = dividet3[\"3Pointersmax\"].astype(float)\n",
    "test2[\"FreeTrowsmin\"] = dividet4[\"FreeTrowsmin\"].astype(float)\n",
    "test2[\"FreeTrowsmax\"] = dividet4[\"FreeTrowsmax\"].astype(float)"
   ]
  },
  {
   "cell_type": "code",
   "execution_count": 15,
   "metadata": {},
   "outputs": [],
   "source": [
    "#Generating dummies and merges\n",
    "z=pd.get_dummies(df2.Position)\n",
    "z.drop(columns=[' SG'],inplace=True)\n",
    "df2=df2.join(z)\n",
    "\n",
    "z=pd.get_dummies(test2.Position)\n",
    "z.drop(columns=[' SG'],inplace=True)\n",
    "test2=test2.join(z)\n",
    "\n",
    "test2[' G'] = 0"
   ]
  },
  {
   "cell_type": "code",
   "execution_count": 16,
   "metadata": {},
   "outputs": [
    {
     "data": {
      "text/html": [
       "<div>\n",
       "<style scoped>\n",
       "    .dataframe tbody tr th:only-of-type {\n",
       "        vertical-align: middle;\n",
       "    }\n",
       "\n",
       "    .dataframe tbody tr th {\n",
       "        vertical-align: top;\n",
       "    }\n",
       "\n",
       "    .dataframe thead th {\n",
       "        text-align: right;\n",
       "    }\n",
       "</style>\n",
       "<table border=\"1\" class=\"dataframe\">\n",
       "  <thead>\n",
       "    <tr style=\"text-align: right;\">\n",
       "      <th></th>\n",
       "      <th>Team_x</th>\n",
       "      <th>Games_x</th>\n",
       "      <th>MinutesxGame_x</th>\n",
       "      <th>PointsxGame</th>\n",
       "      <th>FieldGoalPercentage</th>\n",
       "      <th>3pointersPercentage</th>\n",
       "      <th>FTPercentage</th>\n",
       "      <th>OffensiveRebounds</th>\n",
       "      <th>OffensiveReboundsxGame</th>\n",
       "      <th>DefensiveRebounds</th>\n",
       "      <th>...</th>\n",
       "      <th>3Pointersmin</th>\n",
       "      <th>3Pointersmax</th>\n",
       "      <th>FreeTrowsmin</th>\n",
       "      <th>FreeTrowsmax</th>\n",
       "      <th>C</th>\n",
       "      <th>F</th>\n",
       "      <th>G</th>\n",
       "      <th>PF</th>\n",
       "      <th>PG</th>\n",
       "      <th>SF</th>\n",
       "    </tr>\n",
       "  </thead>\n",
       "  <tbody>\n",
       "    <tr>\n",
       "      <th>0</th>\n",
       "      <td>OKC</td>\n",
       "      <td>81</td>\n",
       "      <td>34.6</td>\n",
       "      <td>31.6</td>\n",
       "      <td>0.425</td>\n",
       "      <td>0.343</td>\n",
       "      <td>0.845</td>\n",
       "      <td>137</td>\n",
       "      <td>1.7</td>\n",
       "      <td>727</td>\n",
       "      <td>...</td>\n",
       "      <td>2.5</td>\n",
       "      <td>7.2</td>\n",
       "      <td>8.8</td>\n",
       "      <td>10.4</td>\n",
       "      <td>0</td>\n",
       "      <td>0</td>\n",
       "      <td>0</td>\n",
       "      <td>0</td>\n",
       "      <td>1</td>\n",
       "      <td>0</td>\n",
       "    </tr>\n",
       "    <tr>\n",
       "      <th>0</th>\n",
       "      <td>OKC</td>\n",
       "      <td>81</td>\n",
       "      <td>34.6</td>\n",
       "      <td>31.6</td>\n",
       "      <td>0.425</td>\n",
       "      <td>0.343</td>\n",
       "      <td>0.845</td>\n",
       "      <td>137</td>\n",
       "      <td>1.7</td>\n",
       "      <td>727</td>\n",
       "      <td>...</td>\n",
       "      <td>2.5</td>\n",
       "      <td>7.2</td>\n",
       "      <td>8.8</td>\n",
       "      <td>10.4</td>\n",
       "      <td>0</td>\n",
       "      <td>0</td>\n",
       "      <td>0</td>\n",
       "      <td>0</td>\n",
       "      <td>1</td>\n",
       "      <td>0</td>\n",
       "    </tr>\n",
       "  </tbody>\n",
       "</table>\n",
       "<p>2 rows × 51 columns</p>\n",
       "</div>"
      ],
      "text/plain": [
       "  Team_x  Games_x  MinutesxGame_x  PointsxGame  FieldGoalPercentage  \\\n",
       "0    OKC       81            34.6         31.6                0.425   \n",
       "0    OKC       81            34.6         31.6                0.425   \n",
       "\n",
       "   3pointersPercentage  FTPercentage  OffensiveRebounds  \\\n",
       "0                0.343         0.845                137   \n",
       "0                0.343         0.845                137   \n",
       "\n",
       "   OffensiveReboundsxGame  DefensiveRebounds ...   3Pointersmin  3Pointersmax  \\\n",
       "0                     1.7                727 ...            2.5           7.2   \n",
       "0                     1.7                727 ...            2.5           7.2   \n",
       "\n",
       "   FreeTrowsmin  FreeTrowsmax   C   F   G   PF   PG   SF  \n",
       "0           8.8          10.4   0   0   0    0    1    0  \n",
       "0           8.8          10.4   0   0   0    0    1    0  \n",
       "\n",
       "[2 rows x 51 columns]"
      ]
     },
     "execution_count": 16,
     "metadata": {},
     "output_type": "execute_result"
    }
   ],
   "source": [
    "df2.head(2)"
   ]
  },
  {
   "cell_type": "code",
   "execution_count": 17,
   "metadata": {},
   "outputs": [],
   "source": [
    "#Target incorporation\n",
    "df2['elegido'] = 0\n",
    "test2['elegido'] = 0"
   ]
  },
  {
   "cell_type": "code",
   "execution_count": 18,
   "metadata": {
    "scrolled": true
   },
   "outputs": [],
   "source": [
    "df2.loc[(df2['year']==2016)&(df2['Player'].isin(allstars3['Player'])),'elegido']=1\n",
    "df2.loc[(df2['year']==2017)&(df2['Player'].isin(allstars['Player'])),'elegido']=1\n",
    "test2.loc[test2['Player'].isin(allstars2['Player']),'elegido']=1"
   ]
  },
  {
   "cell_type": "markdown",
   "metadata": {},
   "source": [
    "MODEL"
   ]
  },
  {
   "cell_type": "code",
   "execution_count": 19,
   "metadata": {},
   "outputs": [],
   "source": [
    "import numpy as np\n",
    "import seaborn as sns\n",
    "from sklearn.model_selection import train_test_split\n",
    "from sklearn.neighbors import KNeighborsClassifier\n",
    "from sklearn.metrics import confusion_matrix\n",
    "from sklearn.model_selection import cross_val_score\n",
    "import matplotlib.pyplot as plt"
   ]
  },
  {
   "cell_type": "code",
   "execution_count": 22,
   "metadata": {},
   "outputs": [],
   "source": [
    "#Model Data\n",
    "X = df2[df2.columns.drop(['elegido','Team_x','Position','Player','year'])]\n",
    "y = df2['elegido']\n",
    "X_test = test2[test2.columns.drop(['elegido','Team_x','Position','Player'])] #For test we use data from 2018\n",
    "y_test = test2['elegido']"
   ]
  },
  {
   "cell_type": "code",
   "execution_count": 23,
   "metadata": {},
   "outputs": [
    {
     "data": {
      "text/plain": [
       "MultinomialNB(alpha=1.0, class_prior=None, fit_prior=True)"
      ]
     },
     "execution_count": 23,
     "metadata": {},
     "output_type": "execute_result"
    }
   ],
   "source": [
    "#NB model\n",
    "from sklearn.naive_bayes import MultinomialNB\n",
    "modelo_NB = MultinomialNB()\n",
    "modelo_NB.fit(X, y)"
   ]
  },
  {
   "cell_type": "code",
   "execution_count": 24,
   "metadata": {},
   "outputs": [
    {
     "data": {
      "text/plain": [
       "0.8199052132701422"
      ]
     },
     "execution_count": 24,
     "metadata": {},
     "output_type": "execute_result"
    }
   ],
   "source": [
    "#Accuracy baseline\n",
    "from sklearn.metrics import accuracy_score\n",
    "labels_predichas = modelo_NB.predict(X_test)\n",
    "accuracy_score(y_test, labels_predichas)"
   ]
  },
  {
   "cell_type": "code",
   "execution_count": 26,
   "metadata": {},
   "outputs": [
    {
     "data": {
      "image/png": "[encoded data removed]",
      "text/plain": [
       "<matplotlib.figure.Figure at 0xb8d9b38>"
      ]
     },
     "metadata": {},
     "output_type": "display_data"
    }
   ],
   "source": [
    "#Test visualization\n",
    "sns.heatmap(confusion_matrix(y_test, labels_predichas), annot=True)\n",
    "plt.ylabel('Verdaderos')\n",
    "plt.xlabel('Predichos');"
   ]
  },
  {
   "cell_type": "code",
   "execution_count": 30,
   "metadata": {},
   "outputs": [
    {
     "data": {
      "image/png": "[encoded data removed]",
      "text/plain": [
       "<matplotlib.figure.Figure at 0xc2301d0>"
      ]
     },
     "metadata": {},
     "output_type": "display_data"
    },
    {
     "data": {
      "text/plain": [
       "0.8493781094527363"
      ]
     },
     "execution_count": 30,
     "metadata": {},
     "output_type": "execute_result"
    }
   ],
   "source": [
    "from sklearn.metrics import roc_curve, auc\n",
    "probs = modelo_NB.predict_proba(X_test)\n",
    "probs_1= probs[:,1]\n",
    "fpr_nb,tpr_nb,thr_nb = roc_curve(y_test, probs[:,1])\n",
    "df = pd.DataFrame(dict(fpr_nb=fpr_nb, tpr_nb=tpr_nb))\n",
    "plt.axis([0, 1.01, 0, 1.01])\n",
    "plt.xlabel('1 - Specificty')\n",
    "plt.ylabel('TPR / Sensitivity')\n",
    "plt.title('ROC Curve')\n",
    "plt.plot(fpr_nb,tpr_nb)\n",
    "plt.plot(np.arange(0,1, step =0.01), np.arange(0,1, step =0.01))\n",
    "plt.show()\n",
    "auc(fpr_nb, tpr_nb)"
   ]
  },
  {
   "cell_type": "code",
   "execution_count": 31,
   "metadata": {},
   "outputs": [],
   "source": [
    "#Normalization\n",
    "from sklearn import preprocessing\n",
    "X = preprocessing.scale(X, axis = 0)\n",
    "X_test = preprocessing.scale(X_test, axis = 0)"
   ]
  },
  {
   "cell_type": "code",
   "execution_count": 32,
   "metadata": {},
   "outputs": [],
   "source": [
    "#KNN Model\n",
    "from sklearn.model_selection import KFold\n",
    "from sklearn.metrics import precision_score\n",
    "from sklearn.metrics import recall_score\n",
    "\n",
    "# Function definition for visualization, GridSearchCV could be used insted.\n",
    "def scores_knn(X,y,start,stop,step):\n",
    "    scores_para_df = []\n",
    "    for i in range(start,stop,step):\n",
    "        model = KNeighborsClassifier(n_neighbors=i)\n",
    "        kf = KFold(n_splits=10, shuffle=True)      \n",
    "        cv_scores = cross_val_score(model, X, y, cv=kf)\n",
    "        dict_row_score = {'score_medio':np.mean(cv_scores),'score_std':np.std(cv_scores),'n_neighbours':i}\n",
    "        scores_para_df.append(dict_row_score)\n",
    "        \n",
    "    df_scores = pd.DataFrame(scores_para_df)\n",
    "    df_scores['limite_inferior'] = df_scores['score_medio'] - df_scores['score_std']\n",
    "    df_scores['limite_superior'] = df_scores['score_medio'] + df_scores['score_std']\n",
    "    return df_scores"
   ]
  },
  {
   "cell_type": "code",
   "execution_count": 33,
   "metadata": {},
   "outputs": [
    {
     "data": {
      "image/png": "[encoded data removed]",
      "text/plain": [
       "<matplotlib.figure.Figure at 0xc210588>"
      ]
     },
     "metadata": {},
     "output_type": "display_data"
    }
   ],
   "source": [
    "#KNN visualization accuracy vs neighbours\n",
    "df_scores = scores_knn(X,y,1,100,3)\n",
    "plt.plot(df_scores['n_neighbours'],df_scores['limite_inferior'],color='r')\n",
    "plt.plot(df_scores['n_neighbours'],df_scores['score_medio'],color='b')\n",
    "plt.plot(df_scores['n_neighbours'],df_scores['limite_superior'],color='r')\n",
    "plt.ylim(0.8, 1);"
   ]
  },
  {
   "cell_type": "code",
   "execution_count": 34,
   "metadata": {},
   "outputs": [
    {
     "data": {
      "image/png": "[encoded data removed]",
      "text/plain": [
       "<matplotlib.figure.Figure at 0xc24acf8>"
      ]
     },
     "metadata": {},
     "output_type": "display_data"
    }
   ],
   "source": [
    "#KNN test predictions and visualization\n",
    "model = KNeighborsClassifier(n_neighbors=5)\n",
    "model.fit(X,y)\n",
    "y_pred = model.predict(X_test)\n",
    "confusion_matrix(y_test, y_pred)\n",
    "\n",
    "sns.heatmap(confusion_matrix(y_test, y_pred), annot=True)\n",
    "plt.ylabel('Verdaderos')\n",
    "plt.xlabel('Predichos');"
   ]
  },
  {
   "cell_type": "code",
   "execution_count": 35,
   "metadata": {},
   "outputs": [
    {
     "data": {
      "image/png": "[encoded data removed]",
      "text/plain": [
       "<matplotlib.figure.Figure at 0xc2f4f60>"
      ]
     },
     "metadata": {},
     "output_type": "display_data"
    },
    {
     "data": {
      "text/plain": [
       "0.9120646766169155"
      ]
     },
     "execution_count": 35,
     "metadata": {},
     "output_type": "execute_result"
    }
   ],
   "source": [
    "from sklearn.metrics import roc_curve, auc\n",
    "probs = model.predict_proba(X_test)\n",
    "fpr,tpr,thr = roc_curve(y_test, probs[:,1])\n",
    "df = pd.DataFrame(dict(fpr=fpr, tpr=tpr))\n",
    "plt.axis([0, 1.01, 0, 1.01])\n",
    "plt.xlabel('1 - Specificty')\n",
    "plt.ylabel('TPR / Sensitivity')\n",
    "plt.title('ROC Curve')\n",
    "plt.plot(df['fpr'],df['tpr'])\n",
    "plt.plot(np.arange(0,1, step =0.01), np.arange(0,1, step =0.01))\n",
    "plt.show()\n",
    "auc(fpr, tpr)"
   ]
  },
  {
   "cell_type": "code",
   "execution_count": 36,
   "metadata": {},
   "outputs": [
    {
     "data": {
      "text/html": [
       "<div>\n",
       "<style scoped>\n",
       "    .dataframe tbody tr th:only-of-type {\n",
       "        vertical-align: middle;\n",
       "    }\n",
       "\n",
       "    .dataframe tbody tr th {\n",
       "        vertical-align: top;\n",
       "    }\n",
       "\n",
       "    .dataframe thead th {\n",
       "        text-align: right;\n",
       "    }\n",
       "</style>\n",
       "<table border=\"1\" class=\"dataframe\">\n",
       "  <thead>\n",
       "    <tr style=\"text-align: right;\">\n",
       "      <th></th>\n",
       "      <th>0</th>\n",
       "      <th>1</th>\n",
       "      <th>2</th>\n",
       "      <th>3</th>\n",
       "      <th>4</th>\n",
       "      <th>5</th>\n",
       "      <th>6</th>\n",
       "      <th>7</th>\n",
       "      <th>8</th>\n",
       "      <th>9</th>\n",
       "      <th>10</th>\n",
       "      <th>11</th>\n",
       "      <th>12</th>\n",
       "      <th>13</th>\n",
       "      <th>14</th>\n",
       "      <th>15</th>\n",
       "    </tr>\n",
       "  </thead>\n",
       "  <tbody>\n",
       "    <tr>\n",
       "      <th>Prob</th>\n",
       "      <td>0.10000</td>\n",
       "      <td>0.15000</td>\n",
       "      <td>0.20</td>\n",
       "      <td>0.25</td>\n",
       "      <td>0.30</td>\n",
       "      <td>0.35</td>\n",
       "      <td>0.4000</td>\n",
       "      <td>0.4500</td>\n",
       "      <td>0.5000</td>\n",
       "      <td>0.5500</td>\n",
       "      <td>0.600000</td>\n",
       "      <td>0.650000</td>\n",
       "      <td>0.700000</td>\n",
       "      <td>0.750000</td>\n",
       "      <td>0.800000</td>\n",
       "      <td>0.850000</td>\n",
       "    </tr>\n",
       "    <tr>\n",
       "      <th>Rec</th>\n",
       "      <td>0.85000</td>\n",
       "      <td>0.85000</td>\n",
       "      <td>0.70</td>\n",
       "      <td>0.70</td>\n",
       "      <td>0.70</td>\n",
       "      <td>0.70</td>\n",
       "      <td>0.5500</td>\n",
       "      <td>0.5500</td>\n",
       "      <td>0.5500</td>\n",
       "      <td>0.5500</td>\n",
       "      <td>0.500000</td>\n",
       "      <td>0.500000</td>\n",
       "      <td>0.500000</td>\n",
       "      <td>0.500000</td>\n",
       "      <td>0.350000</td>\n",
       "      <td>0.350000</td>\n",
       "    </tr>\n",
       "    <tr>\n",
       "      <th>Pre</th>\n",
       "      <td>0.53125</td>\n",
       "      <td>0.53125</td>\n",
       "      <td>0.56</td>\n",
       "      <td>0.56</td>\n",
       "      <td>0.56</td>\n",
       "      <td>0.56</td>\n",
       "      <td>0.6875</td>\n",
       "      <td>0.6875</td>\n",
       "      <td>0.6875</td>\n",
       "      <td>0.6875</td>\n",
       "      <td>0.769231</td>\n",
       "      <td>0.769231</td>\n",
       "      <td>0.769231</td>\n",
       "      <td>0.769231</td>\n",
       "      <td>0.777778</td>\n",
       "      <td>0.777778</td>\n",
       "    </tr>\n",
       "  </tbody>\n",
       "</table>\n",
       "</div>"
      ],
      "text/plain": [
       "           0        1     2     3     4     5       6       7       8   \\\n",
       "Prob  0.10000  0.15000  0.20  0.25  0.30  0.35  0.4000  0.4500  0.5000   \n",
       "Rec   0.85000  0.85000  0.70  0.70  0.70  0.70  0.5500  0.5500  0.5500   \n",
       "Pre   0.53125  0.53125  0.56  0.56  0.56  0.56  0.6875  0.6875  0.6875   \n",
       "\n",
       "          9         10        11        12        13        14        15  \n",
       "Prob  0.5500  0.600000  0.650000  0.700000  0.750000  0.800000  0.850000  \n",
       "Rec   0.5500  0.500000  0.500000  0.500000  0.500000  0.350000  0.350000  \n",
       "Pre   0.6875  0.769231  0.769231  0.769231  0.769231  0.777778  0.777778  "
      ]
     },
     "execution_count": 36,
     "metadata": {},
     "output_type": "execute_result"
    }
   ],
   "source": [
    "# Probs calibration\n",
    "probs = model.predict_proba(X_test)\n",
    "probs_1= probs[:,1]\n",
    "prob = []\n",
    "recall = []\n",
    "pres = []\n",
    "for i in np.arange(0.1, 0.9, 0.05):\n",
    "    y_pred2= probs_1>i\n",
    "    pres.append(precision_score(y_test, y_pred2))\n",
    "    recall.append(recall_score(y_test, y_pred2))\n",
    "    prob.append(i)\n",
    "pknn = pd.DataFrame(data = [prob,recall,pres], index =['Prob','Rec','Pre'])\n",
    "pknn"
   ]
  },
  {
   "cell_type": "code",
   "execution_count": 40,
   "metadata": {},
   "outputs": [
    {
     "data": {
      "text/html": [
       "<div>\n",
       "<style scoped>\n",
       "    .dataframe tbody tr th:only-of-type {\n",
       "        vertical-align: middle;\n",
       "    }\n",
       "\n",
       "    .dataframe tbody tr th {\n",
       "        vertical-align: top;\n",
       "    }\n",
       "\n",
       "    .dataframe thead th {\n",
       "        text-align: right;\n",
       "    }\n",
       "</style>\n",
       "<table border=\"1\" class=\"dataframe\">\n",
       "  <thead>\n",
       "    <tr style=\"text-align: right;\">\n",
       "      <th></th>\n",
       "      <th>0</th>\n",
       "      <th>1</th>\n",
       "      <th>2</th>\n",
       "      <th>3</th>\n",
       "      <th>4</th>\n",
       "      <th>5</th>\n",
       "      <th>6</th>\n",
       "      <th>7</th>\n",
       "      <th>8</th>\n",
       "      <th>9</th>\n",
       "      <th>10</th>\n",
       "      <th>11</th>\n",
       "      <th>12</th>\n",
       "      <th>13</th>\n",
       "      <th>14</th>\n",
       "      <th>15</th>\n",
       "      <th>16</th>\n",
       "      <th>17</th>\n",
       "      <th>18</th>\n",
       "      <th>19</th>\n",
       "    </tr>\n",
       "  </thead>\n",
       "  <tbody>\n",
       "    <tr>\n",
       "      <th>A</th>\n",
       "      <td>0.732227</td>\n",
       "      <td>0.886256</td>\n",
       "      <td>0.938389</td>\n",
       "      <td>0.950237</td>\n",
       "      <td>0.952607</td>\n",
       "      <td>0.950237</td>\n",
       "      <td>0.952607</td>\n",
       "      <td>0.954976</td>\n",
       "      <td>0.959716</td>\n",
       "      <td>0.957346</td>\n",
       "      <td>0.962085</td>\n",
       "      <td>0.966825</td>\n",
       "      <td>0.966825</td>\n",
       "      <td>0.966825</td>\n",
       "      <td>0.966825</td>\n",
       "      <td>0.969194</td>\n",
       "      <td>0.969194</td>\n",
       "      <td>0.969194</td>\n",
       "      <td>0.969194</td>\n",
       "      <td>0.969194</td>\n",
       "    </tr>\n",
       "    <tr>\n",
       "      <th>R</th>\n",
       "      <td>1.000000</td>\n",
       "      <td>0.900000</td>\n",
       "      <td>0.900000</td>\n",
       "      <td>0.850000</td>\n",
       "      <td>0.750000</td>\n",
       "      <td>0.700000</td>\n",
       "      <td>0.700000</td>\n",
       "      <td>0.650000</td>\n",
       "      <td>0.650000</td>\n",
       "      <td>0.600000</td>\n",
       "      <td>0.600000</td>\n",
       "      <td>0.600000</td>\n",
       "      <td>0.600000</td>\n",
       "      <td>0.600000</td>\n",
       "      <td>0.600000</td>\n",
       "      <td>0.600000</td>\n",
       "      <td>0.600000</td>\n",
       "      <td>0.600000</td>\n",
       "      <td>0.600000</td>\n",
       "      <td>0.600000</td>\n",
       "    </tr>\n",
       "    <tr>\n",
       "      <th>alpha</th>\n",
       "      <td>0.000100</td>\n",
       "      <td>0.000621</td>\n",
       "      <td>0.001142</td>\n",
       "      <td>0.001663</td>\n",
       "      <td>0.002184</td>\n",
       "      <td>0.002705</td>\n",
       "      <td>0.003226</td>\n",
       "      <td>0.003747</td>\n",
       "      <td>0.004268</td>\n",
       "      <td>0.004789</td>\n",
       "      <td>0.005311</td>\n",
       "      <td>0.005832</td>\n",
       "      <td>0.006353</td>\n",
       "      <td>0.006874</td>\n",
       "      <td>0.007395</td>\n",
       "      <td>0.007916</td>\n",
       "      <td>0.008437</td>\n",
       "      <td>0.008958</td>\n",
       "      <td>0.009479</td>\n",
       "      <td>0.010000</td>\n",
       "    </tr>\n",
       "  </tbody>\n",
       "</table>\n",
       "</div>"
      ],
      "text/plain": [
       "             0         1         2         3         4         5         6   \\\n",
       "A      0.732227  0.886256  0.938389  0.950237  0.952607  0.950237  0.952607   \n",
       "R      1.000000  0.900000  0.900000  0.850000  0.750000  0.700000  0.700000   \n",
       "alpha  0.000100  0.000621  0.001142  0.001663  0.002184  0.002705  0.003226   \n",
       "\n",
       "             7         8         9         10        11        12        13  \\\n",
       "A      0.954976  0.959716  0.957346  0.962085  0.966825  0.966825  0.966825   \n",
       "R      0.650000  0.650000  0.600000  0.600000  0.600000  0.600000  0.600000   \n",
       "alpha  0.003747  0.004268  0.004789  0.005311  0.005832  0.006353  0.006874   \n",
       "\n",
       "             14        15        16        17        18        19  \n",
       "A      0.966825  0.969194  0.969194  0.969194  0.969194  0.969194  \n",
       "R      0.600000  0.600000  0.600000  0.600000  0.600000  0.600000  \n",
       "alpha  0.007395  0.007916  0.008437  0.008958  0.009479  0.010000  "
      ]
     },
     "execution_count": 40,
     "metadata": {},
     "output_type": "execute_result"
    }
   ],
   "source": [
    "#Logistic Regresion, GridSearchCV could be used insted of this loop for c values.\n",
    "from sklearn.metrics import accuracy_score\n",
    "from sklearn.metrics import recall_score\n",
    "from sklearn.linear_model import LogisticRegression\n",
    "scores = []\n",
    "recall = []\n",
    "C = []\n",
    "for i in np.linspace(0.0001,0.01,20):\n",
    "    reglogsklearn = LogisticRegression(fit_intercept=True,penalty='l2',C = i)\n",
    "    reglogsklearn.fit(X, y)\n",
    "    y_pred3 = reglogsklearn.predict(X_test)\n",
    "    scores.append(accuracy_score(y_test, y_pred3))\n",
    "    recall.append(recall_score(y_test, y_pred3))\n",
    "    C.append(i)\n",
    "a = pd.DataFrame(data = [scores,recall,C], index =['A','R','alpha'])\n",
    "a"
   ]
  },
  {
   "cell_type": "code",
   "execution_count": 41,
   "metadata": {},
   "outputs": [
    {
     "data": {
      "image/png": "[encoded data removed]",
      "text/plain": [
       "<matplotlib.figure.Figure at 0xc55e3c8>"
      ]
     },
     "metadata": {},
     "output_type": "display_data"
    }
   ],
   "source": [
    "# Test predictions and  visualization\n",
    "reglogsklearn = LogisticRegression(fit_intercept=True,penalty='l2',C = 0.0012)\n",
    "reglogsklearn.fit(X, y)\n",
    "y_pred3 = reglogsklearn.predict(X_test)\n",
    "accuracy_score(y_test, y_pred3)\n",
    "sns.heatmap(confusion_matrix(y_test, y_pred3), annot=True)\n",
    "plt.ylabel('Verdaderos')\n",
    "plt.xlabel('Predichos');"
   ]
  },
  {
   "cell_type": "code",
   "execution_count": 42,
   "metadata": {},
   "outputs": [
    {
     "data": {
      "image/png": "[encoded data removed]",
      "text/plain": [
       "<matplotlib.figure.Figure at 0xbd29940>"
      ]
     },
     "metadata": {},
     "output_type": "display_data"
    },
    {
     "data": {
      "text/plain": [
       "0.9722636815920398"
      ]
     },
     "execution_count": 42,
     "metadata": {},
     "output_type": "execute_result"
    }
   ],
   "source": [
    "from sklearn.metrics import roc_curve, auc\n",
    "probs = reglogsklearn.predict_proba(X_test)\n",
    "probs_1= probs[:,1]\n",
    "y_pred2= probs_1>0.5\n",
    "fpr_log,tpr_log,thr_log = roc_curve(y_test, probs[:,1])\n",
    "df = pd.DataFrame(dict(fpr=fpr_log, tpr=tpr_log))\n",
    "plt.axis([0, 1.01, 0, 1.01])\n",
    "plt.xlabel('1 - Specificty')\n",
    "plt.ylabel('TPR / Sensitivity')\n",
    "plt.title('ROC Curve')\n",
    "plt.plot(df['fpr'],df['tpr'])\n",
    "plt.plot(np.arange(0,1, step =0.01), np.arange(0,1, step =0.01))\n",
    "plt.show()\n",
    "auc(fpr_log, tpr_log)"
   ]
  },
  {
   "cell_type": "code",
   "execution_count": 43,
   "metadata": {},
   "outputs": [
    {
     "name": "stderr",
     "output_type": "stream",
     "text": [
      "C:\\Users\\Cone\\Anaconda3\\lib\\site-packages\\sklearn\\metrics\\classification.py:1135: UndefinedMetricWarning: Precision is ill-defined and being set to 0.0 due to no predicted samples.\n",
      "  'precision', 'predicted', average, warn_for)\n"
     ]
    },
    {
     "data": {
      "text/html": [
       "<div>\n",
       "<style scoped>\n",
       "    .dataframe tbody tr th:only-of-type {\n",
       "        vertical-align: middle;\n",
       "    }\n",
       "\n",
       "    .dataframe tbody tr th {\n",
       "        vertical-align: top;\n",
       "    }\n",
       "\n",
       "    .dataframe thead th {\n",
       "        text-align: right;\n",
       "    }\n",
       "</style>\n",
       "<table border=\"1\" class=\"dataframe\">\n",
       "  <thead>\n",
       "    <tr style=\"text-align: right;\">\n",
       "      <th></th>\n",
       "      <th>0</th>\n",
       "      <th>1</th>\n",
       "      <th>2</th>\n",
       "      <th>3</th>\n",
       "      <th>4</th>\n",
       "      <th>5</th>\n",
       "      <th>6</th>\n",
       "      <th>7</th>\n",
       "      <th>8</th>\n",
       "      <th>9</th>\n",
       "      <th>10</th>\n",
       "      <th>11</th>\n",
       "      <th>12</th>\n",
       "      <th>13</th>\n",
       "      <th>14</th>\n",
       "      <th>15</th>\n",
       "    </tr>\n",
       "  </thead>\n",
       "  <tbody>\n",
       "    <tr>\n",
       "      <th>Prob</th>\n",
       "      <td>0.100000</td>\n",
       "      <td>0.150000</td>\n",
       "      <td>0.200000</td>\n",
       "      <td>0.250000</td>\n",
       "      <td>0.300000</td>\n",
       "      <td>0.350000</td>\n",
       "      <td>0.400000</td>\n",
       "      <td>0.450000</td>\n",
       "      <td>0.50</td>\n",
       "      <td>0.550000</td>\n",
       "      <td>0.600000</td>\n",
       "      <td>0.650000</td>\n",
       "      <td>0.700000</td>\n",
       "      <td>0.75</td>\n",
       "      <td>0.8</td>\n",
       "      <td>0.85</td>\n",
       "    </tr>\n",
       "    <tr>\n",
       "      <th>Rec</th>\n",
       "      <td>1.000000</td>\n",
       "      <td>1.000000</td>\n",
       "      <td>1.000000</td>\n",
       "      <td>1.000000</td>\n",
       "      <td>1.000000</td>\n",
       "      <td>1.000000</td>\n",
       "      <td>1.000000</td>\n",
       "      <td>0.900000</td>\n",
       "      <td>0.90</td>\n",
       "      <td>0.750000</td>\n",
       "      <td>0.600000</td>\n",
       "      <td>0.500000</td>\n",
       "      <td>0.300000</td>\n",
       "      <td>0.20</td>\n",
       "      <td>0.1</td>\n",
       "      <td>0.00</td>\n",
       "    </tr>\n",
       "    <tr>\n",
       "      <th>Pre</th>\n",
       "      <td>0.047393</td>\n",
       "      <td>0.047393</td>\n",
       "      <td>0.047393</td>\n",
       "      <td>0.056657</td>\n",
       "      <td>0.085837</td>\n",
       "      <td>0.130719</td>\n",
       "      <td>0.188679</td>\n",
       "      <td>0.276923</td>\n",
       "      <td>0.45</td>\n",
       "      <td>0.483871</td>\n",
       "      <td>0.631579</td>\n",
       "      <td>0.909091</td>\n",
       "      <td>0.857143</td>\n",
       "      <td>0.80</td>\n",
       "      <td>1.0</td>\n",
       "      <td>0.00</td>\n",
       "    </tr>\n",
       "  </tbody>\n",
       "</table>\n",
       "</div>"
      ],
      "text/plain": [
       "            0         1         2         3         4         5         6   \\\n",
       "Prob  0.100000  0.150000  0.200000  0.250000  0.300000  0.350000  0.400000   \n",
       "Rec   1.000000  1.000000  1.000000  1.000000  1.000000  1.000000  1.000000   \n",
       "Pre   0.047393  0.047393  0.047393  0.056657  0.085837  0.130719  0.188679   \n",
       "\n",
       "            7     8         9         10        11        12    13   14    15  \n",
       "Prob  0.450000  0.50  0.550000  0.600000  0.650000  0.700000  0.75  0.8  0.85  \n",
       "Rec   0.900000  0.90  0.750000  0.600000  0.500000  0.300000  0.20  0.1  0.00  \n",
       "Pre   0.276923  0.45  0.483871  0.631579  0.909091  0.857143  0.80  1.0  0.00  "
      ]
     },
     "execution_count": 43,
     "metadata": {},
     "output_type": "execute_result"
    }
   ],
   "source": [
    "#Probs calibration\n",
    "from sklearn.metrics import precision_score\n",
    "from sklearn.metrics import recall_score\n",
    "\n",
    "probs = reglogsklearn.predict_proba(X_test)\n",
    "probs_1= probs[:,1]\n",
    "prob = []\n",
    "recall = []\n",
    "pres = []\n",
    "for i in np.arange(0.1, 0.9, 0.05):\n",
    "    y_pred2= probs_1>i\n",
    "    pres.append(precision_score(y_test, y_pred2))\n",
    "    recall.append(recall_score(y_test, y_pred2))\n",
    "    prob.append(i)\n",
    "prl = pd.DataFrame(data = [prob,recall,pres], index =['Prob','Rec','Pre'])\n",
    "prl"
   ]
  },
  {
   "cell_type": "code",
   "execution_count": 47,
   "metadata": {},
   "outputs": [
    {
     "data": {
      "image/png": "[encoded data removed]",
      "text/plain": [
       "<matplotlib.figure.Figure at 0xce27cc0>"
      ]
     },
     "metadata": {},
     "output_type": "display_data"
    },
    {
     "name": "stdout",
     "output_type": "stream",
     "text": [
      "AUC-KNN:  0.9120646766169155\n",
      "AUC-NB:  0.8493781094527363\n",
      "AUC-RLOG:  0.9722636815920398\n"
     ]
    }
   ],
   "source": [
    "#All models ROC curves\n",
    "plt.axis([0, 1.01, 0, 1.01])\n",
    "plt.xlabel('1 - Specificty')\n",
    "plt.ylabel('TPR / Sensitivity')\n",
    "plt.title('ROC Curve')\n",
    "plt.plot(fpr,tpr)\n",
    "plt.plot(fpr_log,tpr_log)\n",
    "plt.plot(fpr_nb,tpr_nb)\n",
    "plt.plot(np.arange(0,1, step =0.01), np.arange(0,1, step =0.01))\n",
    "plt.legend(['KNN','RLOG','NB'])\n",
    "plt.show()\n",
    "print('AUC-KNN: ', auc(fpr, tpr))\n",
    "print('AUC-NB: ', auc(fpr_nb, tpr_nb))\n",
    "print('AUC-RLOG: ', auc(fpr_log, tpr_log))"
   ]
  },
  {
   "cell_type": "code",
   "execution_count": null,
   "metadata": {},
   "outputs": [],
   "source": [
    "#More features could be added, like team data, age, previous participation and sentiment analysis (teams and players).\n",
    "#More years could also be added and the changes in how the selection procces is done."
   ]
  }
 ],
 "metadata": {
  "kernelspec": {
   "display_name": "Python 3",
   "language": "python",
   "name": "python3"
  },
  "language_info": {
   "codemirror_mode": {
    "name": "ipython",
    "version": 3
   },
   "file_extension": ".py",
   "mimetype": "text/x-python",
   "name": "python",
   "nbconvert_exporter": "python",
   "pygments_lexer": "ipython3",
   "version": "3.6.4"
  }
 },
 "nbformat": 4,
 "nbformat_minor": 2
}
